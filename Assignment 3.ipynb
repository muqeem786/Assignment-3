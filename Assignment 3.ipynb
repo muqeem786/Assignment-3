{
 "cells": [
  {
   "cell_type": "code",
   "execution_count": 2,
   "id": "3eba6eb9-7b36-4be3-925e-3e5c86ceba20",
   "metadata": {},
   "outputs": [],
   "source": [
    "#Question1-Ansewer"
   ]
  },
  {
   "cell_type": "code",
   "execution_count": 3,
   "id": "3f547846-b899-4974-ac8d-09de0d191cd3",
   "metadata": {},
   "outputs": [],
   "source": [
    "# For loop is used when the number of iterations is already known.\n",
    "# While loop is used when the number of iteration is already unknown.\n",
    "# Example of for loop\n",
    "l = [1,2,3,4,56]"
   ]
  },
  {
   "cell_type": "code",
   "execution_count": 4,
   "id": "9e313511-a4a9-4053-b7aa-3433861b70ab",
   "metadata": {},
   "outputs": [
    {
     "name": "stdout",
     "output_type": "stream",
     "text": [
      "1\n",
      "2\n",
      "3\n",
      "4\n",
      "56\n"
     ]
    }
   ],
   "source": [
    "for i in l:\n",
    "    print(i)"
   ]
  },
  {
   "cell_type": "code",
   "execution_count": 5,
   "id": "ff6eb80d-83ea-450e-b95e-6e366e95d89a",
   "metadata": {},
   "outputs": [
    {
     "name": "stdout",
     "output_type": "stream",
     "text": [
      "6\n",
      "8\n",
      "10\n"
     ]
    }
   ],
   "source": [
    "# Example of while loop\n",
    "a = 6\n",
    "while a <= 10:\n",
    "    print(a)\n",
    "    a = a + 2"
   ]
  },
  {
   "cell_type": "code",
   "execution_count": 6,
   "id": "b5f2bd86-72f2-4736-a1ef-c73683daa778",
   "metadata": {},
   "outputs": [],
   "source": [
    "#Question2-Answer"
   ]
  },
  {
   "cell_type": "code",
   "execution_count": 7,
   "id": "a4d1ac1b-aa17-4756-947b-b44823add8ce",
   "metadata": {},
   "outputs": [],
   "source": [
    "l = [1,2,3,4,5,6,7,8,9,10]"
   ]
  },
  {
   "cell_type": "code",
   "execution_count": 8,
   "id": "3aacb093-2a0c-485b-89b8-e32f17d376b1",
   "metadata": {},
   "outputs": [
    {
     "data": {
      "text/plain": [
       "55"
      ]
     },
     "execution_count": 8,
     "metadata": {},
     "output_type": "execute_result"
    }
   ],
   "source": [
    "result = 0\n",
    "for i in l :\n",
    "    result = result + i\n",
    "result    "
   ]
  },
  {
   "cell_type": "code",
   "execution_count": 9,
   "id": "6a20316a-cf12-4e18-844a-96527bf354bf",
   "metadata": {},
   "outputs": [
    {
     "name": "stdout",
     "output_type": "stream",
     "text": [
      "The sum is 55\n"
     ]
    }
   ],
   "source": [
    "num = 10\n",
    "sum = 0\n",
    "while num > 0 :\n",
    "    sum += num\n",
    "    num -= 1\n",
    "print(\"The sum is\",sum)    "
   ]
  },
  {
   "cell_type": "code",
   "execution_count": 10,
   "id": "0fa83d62-2cd6-4843-89aa-2689d86da890",
   "metadata": {},
   "outputs": [],
   "source": [
    "#Question3-Answer"
   ]
  },
  {
   "cell_type": "code",
   "execution_count": 11,
   "id": "5654cfed-9b5f-4608-9170-b4e255c1977c",
   "metadata": {},
   "outputs": [
    {
     "name": "stdin",
     "output_type": "stream",
     "text": [
      "enter unit consume 310\n"
     ]
    },
    {
     "name": "stdout",
     "output_type": "stream",
     "text": [
      "charge 2250.0\n"
     ]
    }
   ],
   "source": [
    "unit = int(input(\"enter unit consume\"))\n",
    "if unit <= 100:\n",
    "    print(\"charge\",4.5*unit)\n",
    "elif unit <= 200:\n",
    "    print(\"charge\",4.5*100+6*(unit-100))\n",
    "elif unit <= 300:\n",
    "    print(\"charge\",4.5*100+6*100+10*(unit-200))\n",
    "else :\n",
    "    print(\"charge\",4.5*100+6*100+10*100+20*(unit-300))"
   ]
  },
  {
   "cell_type": "code",
   "execution_count": 12,
   "id": "b02ad0f1-0d50-4293-b765-5796fa708c0e",
   "metadata": {},
   "outputs": [],
   "source": [
    "#Question4 - Answer"
   ]
  },
  {
   "cell_type": "code",
   "execution_count": 13,
   "id": "315aa282-e725-4bf8-a648-bf3d0303b0a6",
   "metadata": {},
   "outputs": [
    {
     "name": "stdout",
     "output_type": "stream",
     "text": [
      "[8, 64, 125, 216, 512, 1000, 1728, 2744, 3375, 4096, 5832, 8000, 10648, 13824, 15625, 17576, 21952, 27000, 32768, 39304, 42875, 46656, 54872, 64000, 74088, 85184, 91125, 97336, 110592, 125000, 140608, 157464, 166375, 175616, 195112, 216000, 238328, 262144, 274625, 287496, 314432, 343000, 373248, 405224, 421875, 438976, 474552, 512000, 551368, 592704, 614125, 636056, 681472, 729000, 778688, 830584, 857375, 884736, 941192, 1000000]\n"
     ]
    }
   ],
   "source": [
    "list_of_numbers = list(range(1,101))\n",
    "final_list = []\n",
    "\n",
    "for each_number in list_of_numbers:\n",
    "    cube = each_number**3\n",
    "    if cube%4==0 or cube%5==0:\n",
    "        final_list.append(cube)\n",
    "        \n",
    "print(final_list)        \n",
    "    \n",
    "    "
   ]
  },
  {
   "cell_type": "code",
   "execution_count": 14,
   "id": "3185ecb9-68c3-4e1e-a5d3-63bba2f0f100",
   "metadata": {},
   "outputs": [],
   "source": [
    "#Question5 - Answer"
   ]
  },
  {
   "cell_type": "code",
   "execution_count": 16,
   "id": "c9a3ee3f-6136-42d6-94d1-c97ee7d071d4",
   "metadata": {},
   "outputs": [
    {
     "name": "stdout",
     "output_type": "stream",
     "text": [
      "11\n"
     ]
    }
   ],
   "source": [
    "string = \"I want to become a data scientist\"\n",
    "count = 0\n",
    "for i in string:\n",
    "    if i == 'a' or i == 'e' or i == 'i' or i == 'o' or i == 'u':\n",
    "        count += 1\n",
    "    else:\n",
    "        count += 0\n",
    "print(count)        "
   ]
  },
  {
   "cell_type": "code",
   "execution_count": null,
   "id": "cd011597-a630-4871-b232-82e990634128",
   "metadata": {},
   "outputs": [],
   "source": []
  }
 ],
 "metadata": {
  "kernelspec": {
   "display_name": "Python 3 (ipykernel)",
   "language": "python",
   "name": "python3"
  },
  "language_info": {
   "codemirror_mode": {
    "name": "ipython",
    "version": 3
   },
   "file_extension": ".py",
   "mimetype": "text/x-python",
   "name": "python",
   "nbconvert_exporter": "python",
   "pygments_lexer": "ipython3",
   "version": "3.10.8"
  }
 },
 "nbformat": 4,
 "nbformat_minor": 5
}
